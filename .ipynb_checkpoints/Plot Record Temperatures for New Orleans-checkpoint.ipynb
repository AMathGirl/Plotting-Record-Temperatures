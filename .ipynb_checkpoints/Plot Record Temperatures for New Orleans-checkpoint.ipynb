{
 "cells": [
  {
   "cell_type": "markdown",
   "metadata": {},
   "source": [
    "# Plotting record temperatures for New Orleans over the period 2005-2015\n",
    "### Aashita Kesarwani\n",
    "\n",
    "This project is taken from an assignment for the the online course [Applied Plotting, Charting & Data Representation in Python](https://www.coursera.org/learn/python-plotting).\n",
    "\n",
    "National Oceanic and Atmospheric Administration(NOAA) dataset has been stored in the file `data_temperatures_nola.csv`. The data contains daily climate records coming from the 12 stations of The National Centers for Environmental Information (NCEI) [Daily Global Historical Climatology Network](https://www1.ncdc.noaa.gov/pub/data/ghcn/daily/readme.txt) (GHCN-Daily)  near **New Orleans, Louisiana, United States** over the period from Jan 01, 2005 to Dec 31, 2015. \n",
    "\n",
    "The code is written for Python 3.6. Though it runs for Python 2 versions, the visuals, especially the colors that are taken from the Google Material Design color palette, are less appealing."
   ]
  },
  {
   "cell_type": "markdown",
   "metadata": {},
   "source": [
    "First we read the data from the file `data_temperatures_nola.csv` into the pandas dataframe `df`:"
   ]
  },
  {
   "cell_type": "code",
   "execution_count": null,
   "metadata": {
    "collapsed": true
   },
   "outputs": [],
   "source": [
    "import pandas as pd\n",
    "import numpy as np\n",
    "filename = \"data_temperatures_nola.csv\"\n",
    "df = pd.read_csv(filename)"
   ]
  },
  {
   "cell_type": "markdown",
   "metadata": {},
   "source": [
    "Each row in the datafile corresponds to a single observation. There are four columns in the datafile as follows:\n",
    "* **ID** : station identification code\n",
    "* **Date** : date in YYYY-MM-DD format (e.g. 2012-01-24 = January 24, 2012)\n",
    "* **Element** : indicator of element type\n",
    "    * TMAX : Maximum temperature \n",
    "    * TMIN : Minimum temperature \n",
    "* **Data_Value** : data value for element (tenths of degrees C)\n",
    "\n"
   ]
  },
  {
   "cell_type": "code",
   "execution_count": null,
   "metadata": {
    "collapsed": false
   },
   "outputs": [],
   "source": [
    "df.head(5)"
   ]
  },
  {
   "cell_type": "markdown",
   "metadata": {},
   "source": [
    "The dataframe has temperatures for New Orleans from multiple locations in the city and taken at multiple \n",
    "times of the day from Jan 01, 2005 to Dec 31, 2015. Temperatures are given at tenths of degrees celsius."
   ]
  },
  {
   "cell_type": "markdown",
   "metadata": {},
   "source": [
    "Now we prepare the dataframe 'df' to extract the desired data:"
   ]
  },
  {
   "cell_type": "code",
   "execution_count": null,
   "metadata": {
    "collapsed": false
   },
   "outputs": [],
   "source": [
    "df.loc[:,'Data_Value'] *= 0.1 # Dividing all temperature entries by 10 to convert them to degree celsius\n",
    "df['Date'] = pd.to_datetime(df['Date']) # Changing the dtype of the date to pandas datetime \n",
    "\n",
    "# Setting up the sorted multi-index consisting of month and days so as to help grouping rows later for each \n",
    "# day of the year\n",
    "df['Day'] = pd.DatetimeIndex(df['Date']).day \n",
    "df['Month'] = pd.DatetimeIndex(df['Date']).month \n",
    "df = df.set_index(['Month','Day']) \n",
    "df.sort_index(inplace = True)\n",
    "\n",
    "# Discarding all the entries for 29th Feb of any year; only 365 days of the year are considered\n",
    "selected_df = df.loc[2,29] \n",
    "df = df[~df.index.isin(selected_df.index)] "
   ]
  },
  {
   "cell_type": "code",
   "execution_count": null,
   "metadata": {
    "collapsed": true
   },
   "outputs": [],
   "source": [
    "# Splitting dataframes into two - one for 2005-2014 and another for 2015\n",
    "df['Year'] = pd.DatetimeIndex(df['Date']).year\n",
    "df_2015 = df[df['Year'] == 2015] \n",
    "df = df[df['Year'] != 2015] \n",
    "\n",
    "# Creating two dataframes for 2005-2014 - one each for max and min\n",
    "max_temp_df = df[df['Element'] == 'TMAX'] \n",
    "min_temp_df = df[df['Element'] == 'TMIN'] \n",
    "\n",
    "# The following gives pandas series with 365 entries corresponding to the max/min temperatures \n",
    "# over the decade 2005-2014 for each day of the year\n",
    "max_temp = max_temp_df.groupby(level = ['Month', 'Day'])['Data_Value'].max()  \n",
    "min_temp = min_temp_df.groupby(level = ['Month', 'Day'])['Data_Value'].min()\n",
    "\n",
    "# Creating two dataframes for 2015 - one each for max and min\n",
    "max_temp_df_2015 = df_2015[df_2015['Element'] == 'TMAX']\n",
    "min_temp_df_2015 = df_2015[df_2015['Element'] == 'TMIN'] \n",
    "\n",
    "# The following gives dataframes with 365 rows corresponding to the max/min temperatures for each day of \n",
    "# the year 2015 and two columns in total viz one for temperature values and another for dates stored \n",
    "# as the pandas datatime object  \n",
    "max_temp_df_2015 = max_temp_df_2015.groupby(level = ['Month', 'Day']).max()[['Data_Value', 'Date']]\n",
    "min_temp_df_2015 = min_temp_df_2015.groupby(level = ['Month', 'Day']).min()[['Data_Value', 'Date']]"
   ]
  },
  {
   "cell_type": "markdown",
   "metadata": {},
   "source": [
    "Plotting graphs for record high and low temperatures for each day of the year over the period 2005-2014 using ```matplotlib```:"
   ]
  },
  {
   "cell_type": "code",
   "execution_count": null,
   "metadata": {
    "collapsed": false
   },
   "outputs": [],
   "source": [
    "import matplotlib.pyplot as plt\n",
    "import matplotlib.dates as dates\n",
    "import matplotlib.ticker as ticker\n",
    "% matplotlib notebook\n",
    "\n",
    "# Need 365 days array for plotting in pandas datetime format; year does not matter so taken 2015 \n",
    "# for convenience\n",
    "date_range = df_2015['Date'].unique() \n",
    "\n",
    "# Creating figure and an axis\n",
    "fig, ax = plt.subplots( nrows=1, ncols=1, figsize = (10,5) ) \n",
    "ax.set_title('New Orleans Record Temperatures (2005-2014) and 2015') # Setting the title\n",
    "ax.yaxis.grid() # Setting up the horizontal grid lines in the background\n",
    "\n",
    "# Plotting graphs and filling in between region\n",
    "# Google Material Design color palette (https://material.io/guidelines/style/color.html) is used below: \n",
    "plt.plot(date_range, max_temp.values, '#FF9100', linewidth = 1, alpha=0.75, label = '2005-2014 Highs')\n",
    "plt.plot(date_range, min_temp.values, '#80D8FF', linewidth = 1, alpha=0.75, label = '2005-2014 Lows') \n",
    "plt.fill_between(date_range, min_temp, max_temp, facecolor='#EEEEEE')"
   ]
  },
  {
   "cell_type": "markdown",
   "metadata": {},
   "source": [
    "Adding semi-transparent legend with no border:"
   ]
  },
  {
   "cell_type": "code",
   "execution_count": null,
   "metadata": {
    "collapsed": false
   },
   "outputs": [],
   "source": [
    "plt.legend(loc = 1).get_frame().set_edgecolor('white') \n",
    "# Labels for the legends of scatter plots below\n",
    "my_label_max = \"2015 Highs\"\n",
    "my_label_min = \"2015 Lows\"\n",
    "fig.show()"
   ]
  },
  {
   "cell_type": "markdown",
   "metadata": {},
   "source": [
    "Scattering record breaking temperatures from the year 2015 as red and blue dots over the graph:"
   ]
  },
  {
   "cell_type": "code",
   "execution_count": null,
   "metadata": {
    "collapsed": false
   },
   "outputs": [],
   "source": [
    "for idx, rows in max_temp_df_2015.iterrows():\n",
    "    if rows['Data_Value'] > max_temp.loc[idx]:\n",
    "        plt.scatter(rows['Date'], rows['Data_Value'], c = '#E65100', marker = '.', label = my_label_max)\n",
    "        my_label_max = \"_nolegend_\" # To avoid duplicate labels in the legend\n",
    "for idx, rows in min_temp_df_2015.iterrows():\n",
    "    if rows['Data_Value'] < min_temp.loc[idx]:\n",
    "        plt.scatter(rows['Date'], rows['Data_Value'], c = '#0091EA', marker = '.', label = my_label_min)\n",
    "        my_label_min = \"_nolegend_\"\n",
    "        \n",
    "# Adding the labels for the max and min points to the above legend \n",
    "ax.legend(loc = 1).get_frame().set_edgecolor('white') \n",
    "plt.show()"
   ]
  },
  {
   "cell_type": "markdown",
   "metadata": {},
   "source": [
    "This is to set up the x-axis"
   ]
  },
  {
   "cell_type": "code",
   "execution_count": null,
   "metadata": {
    "collapsed": false
   },
   "outputs": [],
   "source": [
    "# Setting the limits for x-axis to fit the dates perfectly\n",
    "xmin, xmax = date_range[0], date_range[-1]\n",
    "ax.set_xlim(xmin, xmax)\n",
    "\n",
    "# Locating 12 positions for the 15th of each month on x-axis \n",
    "ax.xaxis.set_major_locator(dates.MonthLocator())\n",
    "ax.xaxis.set_minor_locator(dates.MonthLocator(bymonthday=15))\n",
    "\n",
    "# Labeling the 12 months on x-axis at the positions located above\n",
    "ax.xaxis.set_major_formatter(ticker.NullFormatter())\n",
    "ax.xaxis.set_minor_formatter(dates.DateFormatter('%b'))\n",
    "\n",
    "# Centering month labels in between the ticks and removing undesirable ticks\n",
    "xticks = ax.xaxis.get_minor_ticks()\n",
    "for xtick in xticks:\n",
    "    xtick.tick1line.set_markersize(0)\n",
    "    xtick.tick2line.set_markersize(0)\n",
    "    xtick.label1.set_horizontalalignment('center')\n",
    "\n",
    "# The changes will be updated on the figure window above because of matplotlib notebook magic"
   ]
  },
  {
   "cell_type": "markdown",
   "metadata": {},
   "source": [
    "This is to set up the left y-axis for temperatures in Celsius:"
   ]
  },
  {
   "cell_type": "code",
   "execution_count": null,
   "metadata": {
    "collapsed": false
   },
   "outputs": [],
   "source": [
    "ax.set_ylabel('Temperatures $(^{\\circ}$C)') # Set label for y-axis\n",
    "\n",
    "# Setting the temperature limits for y-axis from -10 to 50 degrees Celsius\n",
    "ymin, ymax = -10, 50\n",
    "ax.set_ylim(ymin, ymax) \n",
    "\n",
    "yticks = ax.yaxis.get_major_ticks()\n",
    "yticks[0].label1.set_visible(False) # Making 50 degrees Celsius disappear to make the graph look cleaner\n",
    "yticks[1].label1.set_visible(False) # Making -10 degrees Celsius disappear to make the graph look cleaner\n",
    "ax.yaxis.set_major_locator(ticker.MultipleLocator(10)) # Putting major ticks at every 10 degrees Celsius\n",
    "ax.yaxis.set_minor_locator(ticker.MultipleLocator(5)) # Putting minor ticks at every 5 degrees Celsius"
   ]
  },
  {
   "cell_type": "markdown",
   "metadata": {},
   "source": [
    "This is to set up the right y-axis for temperatures in Fahrenheit:"
   ]
  },
  {
   "cell_type": "code",
   "execution_count": null,
   "metadata": {
    "collapsed": false
   },
   "outputs": [],
   "source": [
    "ax2 = ax.twinx() # Create a twin y-axis sharing the x-axis with the previous y-axis\n",
    "ax2.set_ylabel('Temperatures $(^{\\circ}$F)') # Setting label for y-axis\n",
    "def C_to_F(temp_c): # Celsius to Fahrenheit  \n",
    "    return 9/5 *temp_c + 32\n",
    "ax2.set_ylim(C_to_F(ymin), C_to_F(ymax)) # (ymin, ymax) are defined above\n",
    "ax2.yaxis.set_major_locator(ticker.MultipleLocator(20)) # Putting major ticks at every 20 degrees Fahrenheit\n",
    "ax2.yaxis.set_minor_locator(ticker.MultipleLocator(5)) # Putting major ticks at every 5 degrees Fahrenheit\n",
    "\n",
    "fig.tight_layout() # To make the graph fit perfectly in the figure window"
   ]
  },
  {
   "cell_type": "code",
   "execution_count": null,
   "metadata": {
    "collapsed": true
   },
   "outputs": [],
   "source": [
    "# Saving the figure to a png file; comment \"% matplotlib notebook\" before using this option \n",
    "# fig.savefig('foo.png', bbox_inches='tight')   \n",
    "# plt.close(fig)"
   ]
  }
 ],
 "metadata": {
  "anaconda-cloud": {},
  "kernelspec": {
   "display_name": "Python 3",
   "language": "python",
   "name": "python3"
  },
  "language_info": {
   "codemirror_mode": {
    "name": "ipython",
    "version": 3
   },
   "file_extension": ".py",
   "mimetype": "text/x-python",
   "name": "python",
   "nbconvert_exporter": "python",
   "pygments_lexer": "ipython3",
   "version": "3.6.0"
  }
 },
 "nbformat": 4,
 "nbformat_minor": 1
}
